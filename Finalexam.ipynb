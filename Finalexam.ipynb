{
 "cells": [
  {
   "cell_type": "markdown",
   "metadata": {},
   "source": [
    "<font size=\"5\" color=\"#0000dd\">第 0 階段: 匯入模組</font>"
   ]
  },
  {
   "cell_type": "code",
   "execution_count": 50,
   "metadata": {},
   "outputs": [],
   "source": [
    "import os\n",
    "import numpy as np\n",
    "import pandas as pd\n",
    "from PIL import Image\n",
    "import random"
   ]
  },
  {
   "cell_type": "code",
   "execution_count": 51,
   "metadata": {},
   "outputs": [],
   "source": [
    "import keras \n",
    "from keras.models import Sequential\n",
    "from keras.layers import Dense, Dropout, Activation, Flatten\n",
    "from keras.layers import Conv2D, MaxPooling2D\n",
    "from keras.layers.normalization import BatchNormalization\n",
    "from keras.optimizers import RMSprop, Adam\n",
    "from keras.regularizers import l1, l2, l1_l2"
   ]
  },
  {
   "cell_type": "code",
   "execution_count": 52,
   "metadata": {},
   "outputs": [],
   "source": [
    "from sklearn.model_selection import train_test_split"
   ]
  },
  {
   "cell_type": "markdown",
   "metadata": {},
   "source": [
    "<font size=\"5\" color=\"#0000dd\">第 1 階段: 資料匯入與前處理</font>"
   ]
  },
  {
   "cell_type": "code",
   "execution_count": 53,
   "metadata": {},
   "outputs": [],
   "source": [
    "# Variety dict\n",
    "dict_labels = {'daisy':0, 'dandelion':1, 'rose':2, 'sunflower':3, 'tulip':4} \n",
    "num_classes = len(dict_labels)"
   ]
  },
  {
   "cell_type": "code",
   "execution_count": 55,
   "metadata": {},
   "outputs": [],
   "source": [
    "# import data\n",
    "dir_data = '../Finalexam/'\n",
    "\n",
    "dir_train = dir_data+\"train\"\n",
    "dir_test = dir_data+\"test\"\n",
    "# for i in Variety:\n",
    "#     path_data = os.path.join(dir_data+i, )"
   ]
  },
  {
   "cell_type": "code",
   "execution_count": 56,
   "metadata": {},
   "outputs": [],
   "source": [
    "images = []\n",
    "images_pixel = []\n",
    "images_label = []\n",
    "for i in os.listdir(dir_train):\n",
    "    for j in os.listdir(dir_train+\"/\"+i):\n",
    "        path_data = dir_train+\"/\"+i+\"/\"+j\n",
    "        images = Image.open(path_data)\n",
    "        images = images.resize((64,64),Image.ANTIALIAS)\n",
    "        # append to list\n",
    "        images_pixel.append(np.asarray(images))\n",
    "        images_label.append(dict_labels[i])"
   ]
  },
  {
   "cell_type": "code",
   "execution_count": 57,
   "metadata": {},
   "outputs": [],
   "source": [
    "# 將images的pixel跟labe組成tuple\n",
    "train = (images_pixel, images_label)"
   ]
  },
  {
   "cell_type": "code",
   "execution_count": 58,
   "metadata": {
    "scrolled": true
   },
   "outputs": [
    {
     "name": "stdout",
     "output_type": "stream",
     "text": [
      "length of train data: 2823\n",
      "Numbers of each label: [500, 687, 515, 488, 633]\n"
     ]
    }
   ],
   "source": [
    "# 確認train的數據data數量正確\n",
    "# 確認laebel各佔多少個\n",
    "x_train, y_train= train\n",
    "print(\"length of train data:\",len(x_train))\n",
    "\n",
    "labels_count = []\n",
    "for i in range(num_classes):\n",
    "    labels_count.append(y_train.count(i))\n",
    "print(\"Numbers of each label:\",labels_count)\n"
   ]
  },
  {
   "cell_type": "code",
   "execution_count": 59,
   "metadata": {},
   "outputs": [
    {
     "data": {
      "text/plain": [
       "(64, 64, 3)"
      ]
     },
     "execution_count": 59,
     "metadata": {},
     "output_type": "execute_result"
    }
   ],
   "source": [
    "# 這邊隨便看一張圖可以看到h*w*channel是(64*64*3)\n",
    "x_train[1].shape"
   ]
  },
  {
   "cell_type": "code",
   "execution_count": 60,
   "metadata": {},
   "outputs": [],
   "source": [
    "# 資料前處理的function\n",
    "def preproc_x(x):\n",
    "    # input, ([batch_size, height, width, color_channels])\n",
    "    x = np.reshape(x, (-1, 64, 64, 3))\n",
    "    x = x.astype('float32')\n",
    "    x = x/255.\n",
    "    return x\n",
    "\n",
    "def preproc_y(y, num_classes=num_classes):\n",
    "    y = np.asarray(y)\n",
    "    print(y.shape[-1])\n",
    "#     if y.shape[-1] == 1:\n",
    "#         print(\"TRUE\")\n",
    "    y = keras.utils.to_categorical(y, num_classes)\n",
    "    return y"
   ]
  },
  {
   "cell_type": "code",
   "execution_count": 61,
   "metadata": {
    "scrolled": false
   },
   "outputs": [
    {
     "name": "stdout",
     "output_type": "stream",
     "text": [
      "2823\n"
     ]
    }
   ],
   "source": [
    "x_train = preproc_x(x_train)\n",
    "y_train = preproc_y(y_train)"
   ]
  },
  {
   "cell_type": "code",
   "execution_count": 62,
   "metadata": {},
   "outputs": [],
   "source": [
    "randnum = random.randint(0,100)\n",
    "random.seed(randnum)\n",
    "random.shuffle(x_train)\n",
    "random.seed(randnum)\n",
    "random.shuffle(y_train)"
   ]
  },
  {
   "cell_type": "code",
   "execution_count": 63,
   "metadata": {},
   "outputs": [
    {
     "name": "stdout",
     "output_type": "stream",
     "text": [
      "tyep of x_train: <class 'numpy.ndarray'>\n",
      "tyep of y_train: <class 'numpy.ndarray'>\n",
      "-----------------------------------\n",
      "shape of x_train: (2823, 64, 64, 3)\n",
      "shape of y_train: (2823, 5)\n"
     ]
    }
   ],
   "source": [
    "print(\"tyep of x_train:\",type(x_train))\n",
    "print(\"tyep of y_train:\",type(y_train))\n",
    "print(\"-----------------------------------\")\n",
    "print(\"shape of x_train:\",x_train.shape)\n",
    "print(\"shape of y_train:\",y_train.shape)"
   ]
  },
  {
   "cell_type": "markdown",
   "metadata": {},
   "source": [
    "<font size=\"5\" color=\"#0000dd\">第 2 階段: 超參數設定</font>"
   ]
  },
  {
   "cell_type": "code",
   "execution_count": 70,
   "metadata": {},
   "outputs": [],
   "source": [
    "# 超參數設定\n",
    "LEARNING_RATE = 1e-3\n",
    "EPOCHS = 50\n",
    "BATCH_SIZE = 32\n",
    "L2_RATIO = 1e-4"
   ]
  },
  {
   "cell_type": "markdown",
   "metadata": {},
   "source": [
    "<font size=\"5\" color=\"#0000dd\">第 3 階段: 架構神經網絡</font>"
   ]
  },
  {
   "cell_type": "code",
   "execution_count": 71,
   "metadata": {},
   "outputs": [
    {
     "data": {
      "text/plain": [
       "(64, 64, 3)"
      ]
     },
     "execution_count": 71,
     "metadata": {},
     "output_type": "execute_result"
    }
   ],
   "source": [
    "x_train.shape[1:]"
   ]
  },
  {
   "cell_type": "code",
   "execution_count": 74,
   "metadata": {},
   "outputs": [
    {
     "name": "stdout",
     "output_type": "stream",
     "text": [
      "_________________________________________________________________\n",
      "Layer (type)                 Output Shape              Param #   \n",
      "=================================================================\n",
      "conv2d_36 (Conv2D)           (None, 64, 64, 32)        896       \n",
      "_________________________________________________________________\n",
      "activation_42 (Activation)   (None, 64, 64, 32)        0         \n",
      "_________________________________________________________________\n",
      "conv2d_37 (Conv2D)           (None, 62, 62, 32)        9248      \n",
      "_________________________________________________________________\n",
      "activation_43 (Activation)   (None, 62, 62, 32)        0         \n",
      "_________________________________________________________________\n",
      "batch_normalization_15 (Batc (None, 62, 62, 32)        128       \n",
      "_________________________________________________________________\n",
      "max_pooling2d_15 (MaxPooling (None, 31, 31, 32)        0         \n",
      "_________________________________________________________________\n",
      "dropout_20 (Dropout)         (None, 31, 31, 32)        0         \n",
      "_________________________________________________________________\n",
      "conv2d_38 (Conv2D)           (None, 31, 31, 64)        18496     \n",
      "_________________________________________________________________\n",
      "activation_44 (Activation)   (None, 31, 31, 64)        0         \n",
      "_________________________________________________________________\n",
      "conv2d_39 (Conv2D)           (None, 29, 29, 64)        36928     \n",
      "_________________________________________________________________\n",
      "activation_45 (Activation)   (None, 29, 29, 64)        0         \n",
      "_________________________________________________________________\n",
      "batch_normalization_16 (Batc (None, 29, 29, 64)        256       \n",
      "_________________________________________________________________\n",
      "max_pooling2d_16 (MaxPooling (None, 14, 14, 64)        0         \n",
      "_________________________________________________________________\n",
      "dropout_21 (Dropout)         (None, 14, 14, 64)        0         \n",
      "_________________________________________________________________\n",
      "flatten_7 (Flatten)          (None, 12544)             0         \n",
      "_________________________________________________________________\n",
      "dense_12 (Dense)             (None, 512)               6423040   \n",
      "_________________________________________________________________\n",
      "activation_46 (Activation)   (None, 512)               0         \n",
      "_________________________________________________________________\n",
      "dropout_22 (Dropout)         (None, 512)               0         \n",
      "_________________________________________________________________\n",
      "dense_13 (Dense)             (None, 5)                 2565      \n",
      "_________________________________________________________________\n",
      "activation_47 (Activation)   (None, 5)                 0         \n",
      "=================================================================\n",
      "Total params: 6,491,557\n",
      "Trainable params: 6,491,365\n",
      "Non-trainable params: 192\n",
      "_________________________________________________________________\n"
     ]
    }
   ],
   "source": [
    "model = Sequential()\n",
    "model.add(Conv2D(32, (3, 3), padding='same',\n",
    "                 input_shape=x_train.shape[1:],\n",
    "                kernel_regularizer=l2(L2_RATIO)))\n",
    "model.add(Activation('relu'))\n",
    "model.add(Conv2D(32, (3, 3), kernel_regularizer=l2(L2_RATIO)))\n",
    "model.add(Activation('relu'))\n",
    "model.add(BatchNormalization())\n",
    "model.add(MaxPooling2D(pool_size=(2, 2)))\n",
    "model.add(Dropout(0.25))\n",
    "\n",
    "model.add(Conv2D(64, (3, 3), padding='same', kernel_regularizer=l2(L2_RATIO)))\n",
    "model.add(Activation('relu'))\n",
    "model.add(Conv2D(64, (3, 3), kernel_regularizer=l2(L2_RATIO)))\n",
    "model.add(Activation('relu'))\n",
    "model.add(BatchNormalization())\n",
    "model.add(MaxPooling2D(pool_size=(2, 2)))\n",
    "model.add(Dropout(0.25))\n",
    "\n",
    "model.add(Flatten())\n",
    "model.add(Dense(512, kernel_regularizer=l2(L2_RATIO)))\n",
    "model.add(Activation('relu'))\n",
    "model.add(Dropout(0.5))\n",
    "model.add(Dense(num_classes))\n",
    "model.add(Activation('softmax'))\n",
    "model.summary()"
   ]
  },
  {
   "cell_type": "markdown",
   "metadata": {},
   "source": [
    "<font size=\"5\" color=\"#0000dd\">第 4 階段: Model compile & fit </font>"
   ]
  },
  {
   "cell_type": "code",
   "execution_count": 75,
   "metadata": {},
   "outputs": [],
   "source": [
    "optimizer = RMSprop(lr=LEARNING_RATE, rho=0.9, epsilon=None, decay=0.0)\n",
    "model.compile(loss='categorical_crossentropy',\n",
    "              optimizer=optimizer,\n",
    "              metrics=['accuracy'])"
   ]
  },
  {
   "cell_type": "code",
   "execution_count": 76,
   "metadata": {},
   "outputs": [
    {
     "name": "stdout",
     "output_type": "stream",
     "text": [
      "Train on 2258 samples, validate on 565 samples\n",
      "Epoch 1/50\n",
      "2258/2258 [==============================] - 53s 23ms/step - loss: 5.8806 - acc: 0.6125 - val_loss: 10.7318 - val_acc: 0.2920\n",
      "Epoch 2/50\n",
      "2258/2258 [==============================] - 51s 22ms/step - loss: 5.2979 - acc: 0.6541 - val_loss: 11.2692 - val_acc: 0.2991\n",
      "Epoch 3/50\n",
      "2258/2258 [==============================] - 51s 22ms/step - loss: 4.1460 - acc: 0.7228 - val_loss: 10.2950 - val_acc: 0.3628\n",
      "Epoch 4/50\n",
      "2258/2258 [==============================] - 51s 22ms/step - loss: 3.9524 - acc: 0.7329 - val_loss: 11.4007 - val_acc: 0.2938\n",
      "Epoch 5/50\n",
      "2258/2258 [==============================] - 51s 22ms/step - loss: 3.6516 - acc: 0.7569 - val_loss: 10.7258 - val_acc: 0.3345\n",
      "Epoch 6/50\n",
      "2258/2258 [==============================] - 51s 22ms/step - loss: 4.0240 - acc: 0.7356 - val_loss: 11.1441 - val_acc: 0.3080\n",
      "Epoch 7/50\n",
      "2258/2258 [==============================] - 51s 22ms/step - loss: 3.5743 - acc: 0.7679 - val_loss: 10.5275 - val_acc: 0.3575\n",
      "Epoch 8/50\n",
      "2258/2258 [==============================] - 51s 22ms/step - loss: 3.5377 - acc: 0.7759 - val_loss: 11.6558 - val_acc: 0.2867\n",
      "Epoch 9/50\n",
      "2258/2258 [==============================] - 51s 22ms/step - loss: 3.6635 - acc: 0.7675 - val_loss: 12.9590 - val_acc: 0.2071\n",
      "Epoch 10/50\n",
      "2258/2258 [==============================] - 51s 22ms/step - loss: 3.5852 - acc: 0.7728 - val_loss: 11.3625 - val_acc: 0.3009\n",
      "Epoch 11/50\n",
      "2258/2258 [==============================] - 51s 22ms/step - loss: 3.2905 - acc: 0.7963 - val_loss: 9.7743 - val_acc: 0.4000\n",
      "Epoch 12/50\n",
      "2258/2258 [==============================] - 51s 22ms/step - loss: 3.1191 - acc: 0.8051 - val_loss: 9.4680 - val_acc: 0.4142\n",
      "Epoch 13/50\n",
      "2258/2258 [==============================] - 50s 22ms/step - loss: 3.0931 - acc: 0.8105 - val_loss: 9.2305 - val_acc: 0.4248\n",
      "Epoch 14/50\n",
      "2258/2258 [==============================] - 51s 22ms/step - loss: 3.1060 - acc: 0.8074 - val_loss: 9.3320 - val_acc: 0.4071\n",
      "Epoch 15/50\n",
      "2258/2258 [==============================] - 51s 22ms/step - loss: 2.8810 - acc: 0.8202 - val_loss: 8.9794 - val_acc: 0.4460\n",
      "Epoch 16/50\n",
      "2258/2258 [==============================] - 51s 22ms/step - loss: 2.8688 - acc: 0.8260 - val_loss: 9.7975 - val_acc: 0.4071\n",
      "Epoch 17/50\n",
      "2258/2258 [==============================] - 51s 22ms/step - loss: 2.8060 - acc: 0.8268 - val_loss: 11.1514 - val_acc: 0.3204\n",
      "Epoch 18/50\n",
      "2258/2258 [==============================] - 51s 22ms/step - loss: 2.6173 - acc: 0.8370 - val_loss: 11.7178 - val_acc: 0.2832\n",
      "Epoch 19/50\n",
      "2258/2258 [==============================] - 51s 22ms/step - loss: 2.5608 - acc: 0.8432 - val_loss: 9.4946 - val_acc: 0.4018\n",
      "Epoch 20/50\n",
      "2258/2258 [==============================] - 50s 22ms/step - loss: 2.3570 - acc: 0.8565 - val_loss: 8.7142 - val_acc: 0.4637\n",
      "Epoch 21/50\n",
      "2258/2258 [==============================] - 51s 22ms/step - loss: 2.4871 - acc: 0.8503 - val_loss: 9.3757 - val_acc: 0.4177\n",
      "Epoch 22/50\n",
      "2258/2258 [==============================] - 51s 23ms/step - loss: 2.3293 - acc: 0.8605 - val_loss: 8.0237 - val_acc: 0.4920\n",
      "Epoch 23/50\n",
      "2258/2258 [==============================] - 50s 22ms/step - loss: 2.1755 - acc: 0.8640 - val_loss: 8.7646 - val_acc: 0.4496\n",
      "Epoch 24/50\n",
      "2258/2258 [==============================] - 50s 22ms/step - loss: 2.1952 - acc: 0.8654 - val_loss: 9.4668 - val_acc: 0.4177\n",
      "Epoch 25/50\n",
      "2258/2258 [==============================] - 50s 22ms/step - loss: 1.9560 - acc: 0.8782 - val_loss: 7.4761 - val_acc: 0.5150\n",
      "Epoch 26/50\n",
      "2258/2258 [==============================] - 50s 22ms/step - loss: 1.9748 - acc: 0.8831 - val_loss: 8.4771 - val_acc: 0.4708\n",
      "Epoch 27/50\n",
      "2258/2258 [==============================] - 52s 23ms/step - loss: 1.9687 - acc: 0.8747 - val_loss: 8.6570 - val_acc: 0.4566\n",
      "Epoch 28/50\n",
      "2258/2258 [==============================] - 52s 23ms/step - loss: 1.7766 - acc: 0.8911 - val_loss: 8.6216 - val_acc: 0.4478\n",
      "Epoch 29/50\n",
      "2258/2258 [==============================] - 53s 23ms/step - loss: 1.8572 - acc: 0.8822 - val_loss: 7.1341 - val_acc: 0.5451\n",
      "Epoch 30/50\n",
      "2258/2258 [==============================] - 56s 25ms/step - loss: 1.7191 - acc: 0.8906 - val_loss: 5.8146 - val_acc: 0.6035\n",
      "Epoch 31/50\n",
      "2258/2258 [==============================] - 53s 24ms/step - loss: 1.6822 - acc: 0.8955 - val_loss: 6.4372 - val_acc: 0.5381\n",
      "Epoch 32/50\n",
      "2258/2258 [==============================] - 53s 24ms/step - loss: 1.6399 - acc: 0.9012 - val_loss: 8.9894 - val_acc: 0.4177\n",
      "Epoch 33/50\n",
      "2258/2258 [==============================] - 53s 24ms/step - loss: 1.4669 - acc: 0.9132 - val_loss: 7.0635 - val_acc: 0.5363\n",
      "Epoch 34/50\n",
      "2258/2258 [==============================] - 54s 24ms/step - loss: 1.5557 - acc: 0.8959 - val_loss: 7.0872 - val_acc: 0.5239\n",
      "Epoch 35/50\n",
      "2258/2258 [==============================] - 52s 23ms/step - loss: 1.4248 - acc: 0.9136 - val_loss: 6.2649 - val_acc: 0.5416\n",
      "Epoch 36/50\n",
      "2258/2258 [==============================] - 53s 23ms/step - loss: 1.3613 - acc: 0.9105 - val_loss: 5.0031 - val_acc: 0.5929\n",
      "Epoch 37/50\n",
      "2258/2258 [==============================] - 55s 24ms/step - loss: 1.3661 - acc: 0.9043 - val_loss: 5.8162 - val_acc: 0.5717\n",
      "Epoch 38/50\n",
      "2258/2258 [==============================] - 57s 25ms/step - loss: 1.2751 - acc: 0.9150 - val_loss: 4.8856 - val_acc: 0.6035\n",
      "Epoch 39/50\n",
      "2258/2258 [==============================] - 55s 24ms/step - loss: 1.1784 - acc: 0.9194 - val_loss: 8.6040 - val_acc: 0.3770\n",
      "Epoch 40/50\n",
      "2258/2258 [==============================] - 53s 23ms/step - loss: 1.0081 - acc: 0.9393 - val_loss: 6.0626 - val_acc: 0.5451\n",
      "Epoch 41/50\n",
      "2258/2258 [==============================] - 52s 23ms/step - loss: 1.0742 - acc: 0.9327 - val_loss: 6.6256 - val_acc: 0.5487\n",
      "Epoch 42/50\n",
      "2258/2258 [==============================] - 54s 24ms/step - loss: 0.9935 - acc: 0.9283 - val_loss: 5.8688 - val_acc: 0.5469\n",
      "Epoch 43/50\n",
      "2258/2258 [==============================] - 53s 24ms/step - loss: 1.0325 - acc: 0.9384 - val_loss: 5.8078 - val_acc: 0.5239\n",
      "Epoch 44/50\n",
      "2258/2258 [==============================] - 55s 24ms/step - loss: 0.9244 - acc: 0.9415 - val_loss: 7.0717 - val_acc: 0.5027\n",
      "Epoch 45/50\n",
      "2258/2258 [==============================] - 54s 24ms/step - loss: 0.9595 - acc: 0.9402 - val_loss: 5.5550 - val_acc: 0.5929\n",
      "Epoch 46/50\n",
      "2258/2258 [==============================] - 55s 24ms/step - loss: 0.8655 - acc: 0.9469 - val_loss: 6.0790 - val_acc: 0.5681\n",
      "Epoch 47/50\n",
      "2258/2258 [==============================] - 54s 24ms/step - loss: 0.8637 - acc: 0.9438 - val_loss: 5.6848 - val_acc: 0.5805\n",
      "Epoch 48/50\n",
      "2258/2258 [==============================] - 52s 23ms/step - loss: 0.8432 - acc: 0.9464 - val_loss: 5.4409 - val_acc: 0.5876\n",
      "Epoch 49/50\n",
      "2258/2258 [==============================] - 51s 23ms/step - loss: 0.7787 - acc: 0.9486 - val_loss: 6.0362 - val_acc: 0.5681\n",
      "Epoch 50/50\n",
      "2258/2258 [==============================] - 51s 23ms/step - loss: 0.7725 - acc: 0.9455 - val_loss: 6.5730 - val_acc: 0.5451\n"
     ]
    }
   ],
   "source": [
    "history = model.fit(x_train, y_train,\n",
    "                    batch_size=BATCH_SIZE,\n",
    "                    epochs=EPOCHS,\n",
    "                    verbose=1,\n",
    "                    validation_split=0.2,\n",
    "                    shuffle=True)\n",
    "\n",
    "train_loss = model.history.history[\"loss\"]\n",
    "valid_loss = model.history.history[\"val_loss\"]\n",
    "train_acc = model.history.history[\"acc\"]\n",
    "valid_acc = model.history.history[\"val_acc\"]"
   ]
  },
  {
   "cell_type": "markdown",
   "metadata": {},
   "source": [
    "<font size=\"5\" color=\"#0000dd\">第 5 階段: 結果評估</font>"
   ]
  },
  {
   "cell_type": "code",
   "execution_count": 77,
   "metadata": {},
   "outputs": [
    {
     "data": {
      "image/png": "[encoded data removed]",
      "text/plain": [
       "<Figure size 432x288 with 1 Axes>"
      ]
     },
     "metadata": {
      "needs_background": "light"
     },
     "output_type": "display_data"
    },
    {
     "data": {
      "image/png": "[encoded data removed]",
      "text/plain": [
       "<Figure size 432x288 with 1 Axes>"
      ]
     },
     "metadata": {
      "needs_background": "light"
     },
     "output_type": "display_data"
    }
   ],
   "source": [
    "import matplotlib.pyplot as plt\n",
    "%matplotlib inline\n",
    "\n",
    "plt.plot(range(len(train_loss)), train_loss, label=\"train loss\")\n",
    "plt.plot(range(len(valid_loss)), valid_loss, label=\"valid loss\")\n",
    "plt.legend()\n",
    "plt.title(\"Loss\")\n",
    "plt.show()\n",
    "\n",
    "plt.plot(range(len(train_acc)), train_acc, label=\"train accuracy\")\n",
    "plt.plot(range(len(valid_acc)), valid_acc, label=\"valid accuracy\")\n",
    "plt.legend()\n",
    "plt.title(\"Accuracy\")\n",
    "plt.show()"
   ]
  },
  {
   "cell_type": "markdown",
   "metadata": {},
   "source": [
    "<font size=\"5\" color=\"#0000dd\">第 6 階段: 預測與匯出</font>"
   ]
  },
  {
   "cell_type": "code",
   "execution_count": 78,
   "metadata": {},
   "outputs": [],
   "source": [
    "# 預測\n",
    "testimages_pixel = []\n",
    "for i in os.listdir(dir_test):\n",
    "    path_data = dir_test+\"/\"+i\n",
    "    testimages = Image.open(path_data)\n",
    "    testimages = testimages.resize((64,64),Image.ANTIALIAS)\n",
    "    # append to list\n",
    "    testimages_pixel.append(np.asarray(testimages))"
   ]
  },
  {
   "cell_type": "code",
   "execution_count": 79,
   "metadata": {},
   "outputs": [],
   "source": [
    "x_test = preproc_x(testimages_pixel)"
   ]
  },
  {
   "cell_type": "code",
   "execution_count": 80,
   "metadata": {},
   "outputs": [
    {
     "data": {
      "text/plain": [
       "(2000, 64, 64, 3)"
      ]
     },
     "execution_count": 80,
     "metadata": {},
     "output_type": "execute_result"
    }
   ],
   "source": [
    "x_test.shape"
   ]
  },
  {
   "cell_type": "code",
   "execution_count": 81,
   "metadata": {},
   "outputs": [
    {
     "data": {
      "text/plain": [
       "(64, 64, 3)"
      ]
     },
     "execution_count": 81,
     "metadata": {},
     "output_type": "execute_result"
    }
   ],
   "source": [
    "x_test.shape[1:]"
   ]
  },
  {
   "cell_type": "code",
   "execution_count": 82,
   "metadata": {},
   "outputs": [],
   "source": [
    "predictions = model.predict_classes(x_test)"
   ]
  },
  {
   "cell_type": "code",
   "execution_count": 83,
   "metadata": {},
   "outputs": [
    {
     "data": {
      "text/plain": [
       "array([2, 1, 2, ..., 0, 1, 1], dtype=int64)"
      ]
     },
     "execution_count": 83,
     "metadata": {},
     "output_type": "execute_result"
    }
   ],
   "source": [
    "predictions"
   ]
  },
  {
   "cell_type": "code",
   "execution_count": 84,
   "metadata": {},
   "outputs": [],
   "source": [
    "submission = pd.read_csv('../Finalexam/sample_submission.csv')\n",
    "submit = submission[['id']]\n",
    "submit['flower_class'] = predictions"
   ]
  },
  {
   "cell_type": "code",
   "execution_count": 85,
   "metadata": {},
   "outputs": [],
   "source": [
    " submit.to_csv('../Finalexam/predictions.csv', encoding='utf-8',index=False)"
   ]
  },
  {
   "cell_type": "code",
   "execution_count": null,
   "metadata": {},
   "outputs": [],
   "source": []
  }
 ],
 "metadata": {
  "kernelspec": {
   "display_name": "Python 3",
   "language": "python",
   "name": "python3"
  },
  "language_info": {
   "codemirror_mode": {
    "name": "ipython",
    "version": 3
   },
   "file_extension": ".py",
   "mimetype": "text/x-python",
   "name": "python",
   "nbconvert_exporter": "python",
   "pygments_lexer": "ipython3",
   "version": "3.7.1"
  }
 },
 "nbformat": 4,
 "nbformat_minor": 2
}
